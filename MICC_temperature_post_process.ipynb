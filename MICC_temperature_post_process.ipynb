{
 "cells": [
  {
   "cell_type": "markdown",
   "metadata": {},
   "source": [
    "# Processing Temperature data from MICC\n",
    "## INPUTS - pressure and temperature data files (.txt)\n",
    "## OUTPUTS: adiabatic temperature, exponential fit to temperature, plot \n",
    "\n",
    "To use: \n",
    "1. enter file names of pressure and temperature files into the first cell below\n",
    "2. run Cells 1 - 3\n",
    "3. enter the start and end time of an expansion into first line of Cell 4\n",
    "4. run Cell 4, NOTE: plot saved to current directory as a \"expansion_start_time\".pdf\n",
    "5. for further expansions repeat steps 3 and 4"
   ]
  },
  {
   "cell_type": "markdown",
   "metadata": {},
   "source": [
    "### Cell 1"
   ]
  },
  {
   "cell_type": "code",
   "execution_count": 6,
   "metadata": {},
   "outputs": [],
   "source": [
    "# INPUTS - location of pressure and temperature files\n",
    "\n",
    "# Pressure file path\n",
    "Pressure_file_1 = './Pressure/140403/03041124.txt'      # First pressure file\n",
    "Pressure_file_list = ['./Pressure/140403/03041545.txt', # Subsequent pressure files\n",
    "                      './Pressure/140407/07041119.txt'  # must be in time sequential order\n",
    "                     ] \n",
    "\n",
    "# Temperature file path\n",
    "Temperature_file_1 = './Therocouple/140403/140403_tep.txt' # First temperature file\n",
    "Temperature_file_list = ['./Therocouple/140407/140407_1128.txt'] # Subsequent temperature files\n",
    "\n",
    "# NOTE: if only one Pressure or Temperature file then\n",
    "# Pressure_file_list = []    # empty list\n",
    "# Temperature_file_list = [] # empty list\n"
   ]
  },
  {
   "cell_type": "markdown",
   "metadata": {},
   "source": [
    "### Cell 2"
   ]
  },
  {
   "cell_type": "code",
   "execution_count": 7,
   "metadata": {},
   "outputs": [
    {
     "data": {
      "text/html": [
       "<div>\n",
       "<style>\n",
       "    .dataframe thead tr:only-child th {\n",
       "        text-align: right;\n",
       "    }\n",
       "\n",
       "    .dataframe thead th {\n",
       "        text-align: left;\n",
       "    }\n",
       "\n",
       "    .dataframe tbody tr th {\n",
       "        vertical-align: top;\n",
       "    }\n",
       "</style>\n",
       "<table border=\"1\" class=\"dataframe\">\n",
       "  <thead>\n",
       "    <tr style=\"text-align: right;\">\n",
       "      <th></th>\n",
       "      <th>Temperature</th>\n",
       "      <th>Pressure</th>\n",
       "      <th>adiabatic</th>\n",
       "      <th>Temp_corr</th>\n",
       "      <th>fit</th>\n",
       "    </tr>\n",
       "    <tr>\n",
       "      <th>datetime</th>\n",
       "      <th></th>\n",
       "      <th></th>\n",
       "      <th></th>\n",
       "      <th></th>\n",
       "      <th></th>\n",
       "    </tr>\n",
       "  </thead>\n",
       "  <tbody>\n",
       "    <tr>\n",
       "      <th>2014-04-03 11:24:53</th>\n",
       "      <td>247.33</td>\n",
       "      <td>NaN</td>\n",
       "      <td>0.0</td>\n",
       "      <td>0.0</td>\n",
       "      <td>0.0</td>\n",
       "    </tr>\n",
       "    <tr>\n",
       "      <th>2014-04-03 11:24:56</th>\n",
       "      <td>247.34</td>\n",
       "      <td>1023.4945</td>\n",
       "      <td>0.0</td>\n",
       "      <td>0.0</td>\n",
       "      <td>0.0</td>\n",
       "    </tr>\n",
       "    <tr>\n",
       "      <th>2014-04-03 11:24:57</th>\n",
       "      <td>247.33</td>\n",
       "      <td>1023.5057</td>\n",
       "      <td>0.0</td>\n",
       "      <td>0.0</td>\n",
       "      <td>0.0</td>\n",
       "    </tr>\n",
       "    <tr>\n",
       "      <th>2014-04-03 11:24:58</th>\n",
       "      <td>247.32</td>\n",
       "      <td>1023.3395</td>\n",
       "      <td>0.0</td>\n",
       "      <td>0.0</td>\n",
       "      <td>0.0</td>\n",
       "    </tr>\n",
       "    <tr>\n",
       "      <th>2014-04-03 11:24:59</th>\n",
       "      <td>247.32</td>\n",
       "      <td>1023.3551</td>\n",
       "      <td>0.0</td>\n",
       "      <td>0.0</td>\n",
       "      <td>0.0</td>\n",
       "    </tr>\n",
       "  </tbody>\n",
       "</table>\n",
       "</div>"
      ],
      "text/plain": [
       "                     Temperature   Pressure  adiabatic  Temp_corr  fit\n",
       "datetime                                                              \n",
       "2014-04-03 11:24:53       247.33        NaN        0.0        0.0  0.0\n",
       "2014-04-03 11:24:56       247.34  1023.4945        0.0        0.0  0.0\n",
       "2014-04-03 11:24:57       247.33  1023.5057        0.0        0.0  0.0\n",
       "2014-04-03 11:24:58       247.32  1023.3395        0.0        0.0  0.0\n",
       "2014-04-03 11:24:59       247.32  1023.3551        0.0        0.0  0.0"
      ]
     },
     "execution_count": 7,
     "metadata": {},
     "output_type": "execute_result"
    }
   ],
   "source": [
    "# read in temperature and pressure chamber data\n",
    "\n",
    "import pandas as pd\n",
    "import numpy as np\n",
    "import matplotlib.pyplot as plt\n",
    "import datetime as dt\n",
    "from scipy.optimize import curve_fit\n",
    "import math\n",
    "\n",
    "# read in pressure data\n",
    "Pressure = pd.read_csv(Pressure_file_1, skiprows=1,sep='\\t') \n",
    "\n",
    "# read in and append pressure data from Pressure_file_list\n",
    "for i in Pressure_file_list:\n",
    "    P = pd.read_csv(i,skiprows=1,sep='\\t')\n",
    "    Pressure = Pressure.append(P)\n",
    "\n",
    "Pressure['datetime'] = Pressure['Date'] + ' ' + Pressure['Time'] # create datetime column\n",
    "Pressure['datetime'] = [dt.datetime.strptime(x, '%d/%m/%Y %H:%M:%S') for x in Pressure['datetime']]\n",
    "\n",
    "# read in Temperature data\n",
    "Temperature = pd.read_csv(Temperature_file_1, skiprows=2, sep='\\t')\n",
    "\n",
    "# read in and append temperature data from Temperature_file_list\n",
    "for i in Temperature_file_list:\n",
    "    T = pd.read_csv(i, skiprows=2,sep='\\t')\n",
    "    Temperature = Temperature.append(T)\n",
    "\n",
    "Temperature.columns = ['date','time','1','2','3','4','5','6','7','8','unknown'] # name columns\n",
    "Temperature['datetime'] = Temperature['date'] + ' ' + Temperature['time']       # create datetime column\n",
    "Temperature['datetime'] = [dt.datetime.strptime(x, '%d/%m/%Y %H:%M:%S') for x in Temperature['datetime']]\n",
    "\n",
    "# find thermocouple with lowest temperature\n",
    "minT = Temperature[['1','2','3','4','5','6','7','8']].sum().idxmin() # minT is an index to the therocouple\n",
    "                                                                     # with the lowest total temperature\n",
    "# combine temperature and pressure data for the same times into one dataframe\n",
    "P = pd.DataFrame() # create empty\n",
    "T = pd.DataFrame() # dataframes\n",
    "\n",
    "P['Pressure'] = Pressure['Pressure (mBar)']        # fill empty dataframes\n",
    "T['Temperature'] = Temperature[minT] + 273.15      # use lowest thermocouple data (minT)\n",
    "\n",
    "P.index = Pressure['datetime']  # index dataframes with datetime\n",
    "T.index = Temperature['datetime']\n",
    "\n",
    "# join T and P together depending on which is the longest to avoid overlap\n",
    "if len(T) > len(P):\n",
    "    result = T.join(P, how = 'inner')\n",
    "else:\n",
    "    result = P.join(T, how = 'inner')\n",
    "\n",
    "result['adiabatic'] = 0.0 # create empty columns \n",
    "result['Temp_corr'] = 0.0 # to be filled later\n",
    "result['fit']       = 0.0 #\n",
    "    \n",
    "result.head()\n",
    "\n"
   ]
  },
  {
   "cell_type": "markdown",
   "metadata": {},
   "source": [
    "## Define some functions"
   ]
  },
  {
   "cell_type": "markdown",
   "metadata": {},
   "source": [
    "### Cell 3"
   ]
  },
  {
   "cell_type": "code",
   "execution_count": 8,
   "metadata": {
    "collapsed": true
   },
   "outputs": [],
   "source": [
    "def firstNonNan(listfloats):\n",
    "    \"\"\" function that returns first non nan value in list \n",
    "    \"\"\"\n",
    "    for item in listfloats:\n",
    "        if math.isnan(item) == False:\n",
    "            return item\n",
    "\n",
    "def Temp_correct(Press, Temp):\n",
    "    \"\"\" Function that calculates adiabatic temperaure change from pressure \n",
    "        and calculates corrected temperature data using a time consant\n",
    "        \n",
    "        Press is a list of pressure values\n",
    "        \n",
    "        Temp is a list of temperature values in Kelvin, its helpful to smooth the data before\n",
    "        passing to this function\n",
    "    \"\"\"\n",
    "    \n",
    "    gamma = 287.058/1005.0\n",
    "    P0 = Press[0]\n",
    "    T0 = firstNonNan(Temp)\n",
    "    alpha = (1/60)\n",
    "    \n",
    "    adiabatic = np.zeros(len(Press)) # create empty array for calculation of adiabatic T\n",
    "    Delta = np.zeros_like(adiabatic)\n",
    "    Delta[0] = T0\n",
    "\n",
    "    for i in range(0,len(Press)):\n",
    "        adiabatic[i] = T0*(Press[i]/P0)**(gamma)\n",
    "        if i == 0:\n",
    "            Delta[i] = Temp[i]\n",
    "        else:\n",
    "            Delta[i] = Temp[i]-Temp[i-1]\n",
    "            \n",
    "    T_corr = Delta/alpha + Temp\n",
    "    T_corr[0] = Temp[0]\n",
    "    \n",
    "    return T_corr, adiabatic\n",
    "\n",
    "def temp_func(x, A, tau, d):\n",
    "    return (d+A*np.exp(-tau*x))\n",
    "\n",
    "def fit_temp(ydata):\n",
    "\n",
    "    xdata = list(range(len(ydata)))\n",
    "    ydata = ydata.rolling(8).mean()\n",
    "    ydata = np.where(ydata is np.inf, np.nan, ydata) # replace infs with NaNs\n",
    "\n",
    "    # replace NaNs with closest value\n",
    "    ind = np.where(~np.isnan(ydata))[0]\n",
    "    first, last = ind[0], ind[-1]\n",
    "    ydata[:first] = ydata[first]\n",
    "    ydata[last + 1:] = ydata[last]\n",
    "\n",
    "    # Find exponetial curve that fits corrected temperature data\n",
    "    # only use temperature data towards the begining of expansion for fitting\n",
    "    popt, pcov = curve_fit(temp_func, xdata[10:150], ydata[10:150], p0=(1, 1e-6, T0))\n",
    "    \n",
    "    # use fitted values to calculated 'test' fitted temperature curve\n",
    "    fit_t = [temp_func(x, popt[0], popt[1], popt[2]) for x in xdata] \n",
    "    \n",
    "    return fit_t, popt\n"
   ]
  },
  {
   "cell_type": "markdown",
   "metadata": {},
   "source": [
    "## Calculation of corrected temperature and fit parameters"
   ]
  },
  {
   "cell_type": "markdown",
   "metadata": {},
   "source": [
    "### Cell 4"
   ]
  },
  {
   "cell_type": "code",
   "execution_count": 9,
   "metadata": {},
   "outputs": [
    {
     "name": "stdout",
     "output_type": "stream",
     "text": [
      "fit parameter 1 =  7.13421654355\n",
      "fit parameter 2 =  0.0333273438929\n"
     ]
    },
    {
     "data": {
      "image/png": "[encoded data removed]",
      "text/plain": [
       "<matplotlib.figure.Figure at 0x7f51302fc198>"
      ]
     },
     "metadata": {},
     "output_type": "display_data"
    }
   ],
   "source": [
    "# Inputs - start and end time of expansions:\n",
    "\n",
    "start = '2014-04-03 12:59:33'\n",
    "end = '2014-04-03 13:04:10'\n",
    "\n",
    "# create index value for one minute after start \n",
    "end2 = pd.Timestamp(start) + pd.Timedelta(minutes=1)\n",
    "\n",
    "# create lists of pressure and temperature values\n",
    "# to be used to calculate the adiabatic temperature\n",
    "# and time constant corrected temperature\n",
    "Pressure2 = result['Pressure'][start:end]\n",
    "Temp = result['Temperature'][start:end].rolling(8).mean()\n",
    "\n",
    "# define starting temperature\n",
    "T0 = firstNonNan(Temp)\n",
    "\n",
    "# Call Temp_correct function to calculate adiabatic temperature and time constant \n",
    "# corrected temperature and write result to dataframe result\n",
    "result['Temp_corr'][start:end], result['adiabatic'][start:end] = Temp_correct(Pressure2, Temp) \n",
    "\n",
    "# Call fit_temp to find exponential fit to corrected temperature\n",
    "# and calculated fitted profile\n",
    "result['fit'][start:end], fit_params = fit_temp(result['Temp_corr'][start:end])\n",
    "\n",
    "print('fit parameter 1 = ',fit_params[0])\n",
    "print('fit parameter 2 = ',fit_params[1])\n",
    "\n",
    "# plotting everything out\n",
    "plt.plot(result['adiabatic'][start:end2]-273.15)\n",
    "plt.plot(result['Temperature'][start:end]-273.15)\n",
    "plt.plot(result['Temp_corr'][start:end].rolling(2).mean()-273.15)\n",
    "plt.plot(result['fit'][start:end]-273.15)\n",
    "\n",
    "plt.legend()\n",
    "plt.gcf().autofmt_xdate()\n",
    "plt.xlabel('Time')\n",
    "plt.ylabel('Temperature ($^{o}$C)')\n",
    "plt.title(start)\n",
    "plt.savefig(start + '.pdf')\n",
    "plt.show()\n"
   ]
  },
  {
   "cell_type": "code",
   "execution_count": null,
   "metadata": {
    "collapsed": true
   },
   "outputs": [],
   "source": []
  }
 ],
 "metadata": {
  "kernelspec": {
   "display_name": "Python 3",
   "language": "python",
   "name": "python3"
  },
  "language_info": {
   "codemirror_mode": {
    "name": "ipython",
    "version": 3
   },
   "file_extension": ".py",
   "mimetype": "text/x-python",
   "name": "python",
   "nbconvert_exporter": "python",
   "pygments_lexer": "ipython3",
   "version": "3.6.2"
  }
 },
 "nbformat": 4,
 "nbformat_minor": 2
}
