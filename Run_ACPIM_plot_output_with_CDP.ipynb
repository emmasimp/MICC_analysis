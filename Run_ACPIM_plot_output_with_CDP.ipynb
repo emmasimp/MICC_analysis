{
 "cells": [
  {
   "cell_type": "markdown",
   "metadata": {},
   "source": [
    "# Run ACPIM and plot with CDP data"
   ]
  },
  {
   "cell_type": "code",
   "execution_count": 2,
   "metadata": {
    "collapsed": true
   },
   "outputs": [],
   "source": [
    "# Read in CDP data\n",
    "\n",
    "import pandas as pd\n",
    "import matplotlib.pyplot as plt\n",
    "import matplotlib\n",
    "import datetime as dt\n",
    "import numpy as np\n",
    "import glob\n",
    "import netCDF4\n",
    "from netCDF4 import Dataset\n",
    "import subprocess\n",
    "\n",
    "R = 287\n",
    "\n",
    "# read in every .min file in subdirectories\n",
    "for ind, filename in enumerate(glob.glob('./CDP/**/*.min')):\n",
    "    if ind == 0:\n",
    "        \n",
    "        CDP = pd.read_csv(filename, skiprows=2, sep=r\"\\s+\",names=range(54)) # more than one delimiter (\\s+)\n",
    "                                                                            # label each column with numbers 0 - 54\n",
    "        CDP.columns = CDP.iloc[0]                                           # get column names from first row\n",
    "        CDP.drop(CDP.index[[0]], inplace=True)                              # delete first row\n",
    "        CDP['datetime'] = CDP['Date'] + ' ' + CDP['Time']                   # create datetime column\n",
    "        CDP['datetime'] = [dt.datetime.strptime(x, '%d/%m/%Y %H:%M:%S') for x in CDP['datetime']]\n",
    "        CDP.index = CDP['datetime']                                         # use datetime as index\n",
    "        \n",
    "    else:\n",
    "        \n",
    "        CDP_next = pd.read_csv(filename, skiprows=2, sep=r\"\\s+\",names=range(54))\n",
    "        CDP_next.columns = CDP_next.iloc[0]\n",
    "        CDP_next.drop(CDP_next.index[[0]], inplace=True)\n",
    "        CDP_next['datetime'] = CDP_next['Date'] + ' ' + CDP_next['Time'] \n",
    "        CDP_next['datetime'] = [dt.datetime.strptime(x, '%d/%m/%Y %H:%M:%S') for x in CDP_next['datetime']]\n",
    "        CDP_next.index = CDP_next['datetime'] \n",
    "        # append CDP_next to CDP\n",
    "        CDP = CDP.append(CDP_next)\n",
    "        \n",
    "# sort CDP by index so everything is in time order        \n",
    "CDP = CDP.sort_index()\n",
    "# replace NaNs with zeros\n",
    "CDP.fillna(value=0, inplace=True)\n",
    "# find indices to columns containing concentrations of each size bin\n",
    "bin_first = CDP.columns.get_loc(3.0)\n",
    "bin_last = CDP.columns.get_loc(50.0)\n",
    "# Create array of binned data, CDP1\n",
    "CDP1 = CDP.iloc[:,bin_first:bin_last+1]\n",
    "# Create variable for sum of sizes above 12microns, ie ice\n",
    "bin_12 = CDP.columns.get_loc(12.0)\n",
    "bin_5 = CDP.columns.get_loc(5.0)\n",
    "CDP12 = CDP.iloc[:,bin_12:bin_last+1].sum(axis=1)\n",
    "CDP5 = CDP.iloc[:,bin_5:bin_last+1].sum(axis=1)\n",
    "\n",
    "# Create array of size bins, sizes\n",
    "sizes = np.array(CDP.columns)\n",
    "sizes = sizes[bin_first:bin_last+1]\n"
   ]
  },
  {
   "cell_type": "markdown",
   "metadata": {},
   "source": [
    "## Edit NAMELISTs for ACPIM and run simulation\n",
    "\n",
    "Currently set up to change values of ALPHA and Aw used in criteria for ice formation.\n",
    "\n",
    "To change different variables replace variable value in NAMELIST with -1111 or -2222 and change the value accordingly in the cell below (ALPHA/Aw corresponds to -1111/-2222).  "
   ]
  },
  {
   "cell_type": "code",
   "execution_count": null,
   "metadata": {
    "collapsed": true
   },
   "outputs": [],
   "source": [
    "# run acpim ./acpim_v17_test \n",
    "R = 287\n",
    "\n",
    "ALPHA = 40\n",
    "Aw = 0.99991\n",
    "\n",
    "# run all namelists\n",
    "for filename in glob.glob('../acpim_v17_test/Paper_redo_201117/*.IN'):\n",
    "    \n",
    "    edit_namelist = \"sed -e 's/-1111/\"+str(ALPHA)+\"/' \"+filename+\" > temp.IN\"\n",
    "    subprocess.call([edit_namelist], shell=True)\n",
    "    \n",
    "    edit_namelist2 = \"sed -e 's/-2222/\"+str(Aw)+\"/' temp.IN > temp2.IN\"\n",
    "    subprocess.call([edit_namelist2],shell=True)\n",
    "    \n",
    "    run_acpim = \"./main.exe temp2.IN GRIDS.IN\"\n",
    "    subprocess.call([run_acpim], shell=True)"
   ]
  },
  {
   "cell_type": "markdown",
   "metadata": {},
   "source": [
    "## Run ACPIM without editing NAMELISTS\n",
    "\n",
    "Change path in 'glob.glob' to directory where NAMELISTS are.\n",
    "\n",
    "This code will run all NAMELISTS in that path. "
   ]
  },
  {
   "cell_type": "code",
   "execution_count": null,
   "metadata": {
    "collapsed": true
   },
   "outputs": [],
   "source": [
    "# run all namelists ./acpim_v17 \n",
    "for filename in glob.glob('../acpim_v17/Paper_redo_201117/*.IN'):\n",
    "    \n",
    "    run_acpim = \"../acpim_v17/main.exe \"+filename+\" GRIDS.IN\"\n",
    "    subprocess.call([run_acpim], shell=True)\n",
    "    "
   ]
  },
  {
   "cell_type": "code",
   "execution_count": 12,
   "metadata": {},
   "outputs": [],
   "source": [
    "fig = plt.figure()\n",
    "\n",
    "ax1 = fig.add_subplot(111) # 111 for one figure only, can be changed to eg. 321 which will give first\n",
    "                           # plot in 2 columns of 3 rows of panels. \n",
    "\n",
    "    # start and end time of experiment for CDP\n",
    "start = '2014-04-03 12:59:33'\n",
    "end = '2014-04-03 13:04:00'\n",
    "\n",
    "# read in and plot ACPIM output files\n",
    "label_1 = '1' # line labels\n",
    "label_2 = '2' #\n",
    "\n",
    "nc = Dataset(\"../acpim_v17/output01_1259_Act_Nov17.nc\", \"r\", format=\"NETCDF4\")\n",
    "ax1.plot(nc['TIMES'],((nc['NICE'][:,0,0,0]/1e6)*nc['PRESS'][:,0,0,0])/(R*nc['TEMP'][:,0,0,0]), label=label_1)\n",
    "nc = Dataset(\"../acpim_v17/output01_1259_RH1_Nov17.nc\", \"r\", format=\"NETCDF4\")\n",
    "ax1.plot(nc['TIMES'],((nc['NICE'][:,0,0,0]/1e6)*nc['PRESS'][:,0,0,0])/(R*nc['TEMP'][:,0,0,0]), label=label_2)\n",
    "\n",
    "# plot CDP data for this eperiment\n",
    "obs = []\n",
    "obs = CDP12[start:end].rolling(8).mean().values\n",
    "ax1.plot(obs)\n",
    "\n",
    "ax1.set_ylabel('Ice crystal number concentration (cm$^{-3}$)')\n",
    "ax1.set_xlabel('Time (seconds)')\n",
    "plt.legend()\n",
    "\n",
    "# add more panels to this plot by copying and pasting the above lines from 'ax1 = fig.add_subplot(111)'\n",
    "# changing 111 to eg 321\n",
    "# changing start and end time\n",
    "# changing name of output files\n",
    "# copy and paste as many times as panels you require\n",
    "\n",
    "\n",
    "\n",
    "plt.show()"
   ]
  },
  {
   "cell_type": "code",
   "execution_count": null,
   "metadata": {
    "collapsed": true
   },
   "outputs": [],
   "source": []
  }
 ],
 "metadata": {
  "kernelspec": {
   "display_name": "Python 3",
   "language": "python",
   "name": "python3"
  },
  "language_info": {
   "codemirror_mode": {
    "name": "ipython",
    "version": 3
   },
   "file_extension": ".py",
   "mimetype": "text/x-python",
   "name": "python",
   "nbconvert_exporter": "python",
   "pygments_lexer": "ipython3",
   "version": "3.6.2"
  }
 },
 "nbformat": 4,
 "nbformat_minor": 1
}
